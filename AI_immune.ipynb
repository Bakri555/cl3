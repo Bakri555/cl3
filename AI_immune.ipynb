{
 "cells": [
  {
   "cell_type": "markdown",
   "id": "cec3adc6-e042-4204-9d27-30e9bf53680c",
   "metadata": {},
   "source": [
    "To apply the artificial immune pattern recognition to perform a task of structure damage Classification"
   ]
  },
  {
   "cell_type": "markdown",
   "id": "c6184755-dffc-4d45-bcd5-dc01516ae9b3",
   "metadata": {},
   "source": [
    "The AIRS algorithm stands for Artificial Immune Recognition System. It is a machine learning algorithm inspired by the biological immune system,\n",
    "particularly its adaptive nature in recognizing and responding to pathogens.\n",
    "Key Concepts:\n",
    "Memory cells: Represent learned patterns (analogous to memory B-cells in biology)\n",
    "\n",
    "Stimulation: Measures similarity between an input (antigen) and memory cells (antibodies)\n",
    "\n",
    "Cloning and mutation: New candidate memory cells are generated through cloning and mutation of stimulated cells\n",
    "\n",
    "Resource allocation: Controls the growth of memory cells to avoid overfitting\n",
    "\n",
    "Affinity maturation: Iterative improvement of memory cells for better classification accuracy\n",
    "\n",
    "AIRS Workflow Summary:\n",
    "Input an instance (antigen).\n",
    "\n",
    "Compare it to memory cells to calculate affinity.\n",
    "\n",
    "Select best matching cells, then clone and mutate them.\n",
    "\n",
    "Evaluate and update the memory cell pool.\n",
    "\n",
    "Repeat until classification performance stabilizes.\n",
    "\n",
    "Applications:\n",
    "Pattern recognition\n",
    "\n",
    "Medical diagnosis"
   ]
  },
  {
   "cell_type": "code",
   "execution_count": 4,
   "id": "557e1846-cd89-4e05-a308-b8abec4a6264",
   "metadata": {},
   "outputs": [],
   "source": [
    "import numpy as np\n",
    "from sklearn.metrics import accuracy_score\n",
    "from sklearn.preprocessing import MinMaxScaler\n",
    "from sklearn.model_selection import train_test_split\n",
    "\n",
    "# --- Parameters ---\n",
    "CLONE_RATE = 5\n",
    "MUTATION_RATE = 0.1\n",
    "MEMORY_POOL_SIZE = 50\n",
    "AFFINITY_THRESHOLD = 0.9\n",
    "MAX_EPOCHS = 100\n",
    "\n",
    "# --- Affinity (similarity) ---\n",
    "def affinity(a, b):\n",
    "    return np.exp(-np.linalg.norm(a - b))  # Gaussian similarity\n",
    "\n",
    "# --- Mutation ---\n",
    "def mutate(cell, rate=0.1):\n",
    "    return cell + np.random.normal(0, rate, size=cell.shape)\n",
    "\n",
    "# --- AIRS Classifier ---\n",
    "class AIRSClassifier:\n",
    "    def __init__(self):\n",
    "        self.memory_cells = []\n",
    "        self.memory_labels = []\n",
    "\n",
    "    def train(self, X, y):\n",
    "        self.memory_cells = []\n",
    "        self.memory_labels = []\n",
    "\n",
    "        # Initialize memory with random samples\n",
    "        indices = np.random.choice(len(X), MEMORY_POOL_SIZE, replace=False)\n",
    "        self.memory_cells = X[indices]\n",
    "        self.memory_labels = y[indices]\n",
    "\n",
    "        for epoch in range(MAX_EPOCHS):\n",
    "            for i, x in enumerate(X):\n",
    "                label = y[i]\n",
    "\n",
    "                # Calculate affinities\n",
    "                affinities = np.array([affinity(x, m) for m in self.memory_cells])\n",
    "                best_idx = np.argmax(affinities)\n",
    "\n",
    "                # Clone and mutate\n",
    "                if affinities[best_idx] < AFFINITY_THRESHOLD:\n",
    "                    clones = [mutate(self.memory_cells[best_idx], MUTATION_RATE) for _ in range(CLONE_RATE)]\n",
    "                    clone_affinities = [affinity(x, c) for c in clones]\n",
    "                    best_clone = clones[np.argmax(clone_affinities)]\n",
    "\n",
    "                    # Replace memory cell with best clone\n",
    "                    self.memory_cells[best_idx] = best_clone\n",
    "                    self.memory_labels[best_idx] = label\n",
    "\n",
    "    def predict(self, X):\n",
    "        preds = []\n",
    "        for x in X:\n",
    "            affinities = np.array([affinity(x, m) for m in self.memory_cells])\n",
    "            best_idx = np.argmax(affinities)\n",
    "            preds.append(self.memory_labels[best_idx])\n",
    "        return np.array(preds)\n"
   ]
  },
  {
   "cell_type": "code",
   "execution_count": 5,
   "id": "a7e3be82-2637-4a9a-b763-3afca5d7fbd1",
   "metadata": {},
   "outputs": [
    {
     "name": "stdout",
     "output_type": "stream",
     "text": [
      "Accuracy: 0.9111111111111111\n"
     ]
    }
   ],
   "source": [
    "# Load your dataset (replace with actual sensor/feature data)\n",
    "from sklearn.datasets import load_iris  # Simulating structural data\n",
    "data = load_iris()\n",
    "X = data.data\n",
    "y = data.target\n",
    "\n",
    "# Normalize features\n",
    "scaler = MinMaxScaler()\n",
    "X = scaler.fit_transform(X)\n",
    "\n",
    "# Split dataset\n",
    "X_train, X_test, y_train, y_test = train_test_split(X, y, test_size=0.3, random_state=42)\n",
    "\n",
    "# Train and test AIRS\n",
    "clf = AIRSClassifier()\n",
    "clf.train(X_train, y_train)\n",
    "\n",
    "y_pred = clf.predict(X_test)\n",
    "print(\"Accuracy:\", accuracy_score(y_test, y_pred))\n"
   ]
  },
  {
   "cell_type": "code",
   "execution_count": null,
   "id": "07bdd361-4b79-4ae7-8a99-54e3bfd7974f",
   "metadata": {},
   "outputs": [],
   "source": []
  }
 ],
 "metadata": {
  "kernelspec": {
   "display_name": "Python 3 (ipykernel)",
   "language": "python",
   "name": "python3"
  },
  "language_info": {
   "codemirror_mode": {
    "name": "ipython",
    "version": 3
   },
   "file_extension": ".py",
   "mimetype": "text/x-python",
   "name": "python",
   "nbconvert_exporter": "python",
   "pygments_lexer": "ipython3",
   "version": "3.11.7"
  }
 },
 "nbformat": 4,
 "nbformat_minor": 5
}
