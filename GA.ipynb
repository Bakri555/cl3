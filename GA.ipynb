{
 "cells": [
  {
   "cell_type": "code",
   "execution_count": 8,
   "id": "cccfe13d-feb0-449b-815f-47022ee48fdb",
   "metadata": {},
   "outputs": [
    {
     "name": "stdout",
     "output_type": "stream",
     "text": [
      "Tested (50,), relu, adam => MSE: 3.5335765639845995\n",
      "Tested (50,), relu, sgd => MSE: 1.038277552584494\n",
      "Tested (50,), tanh, adam => MSE: 1.117501595654189\n",
      "Tested (50,), tanh, sgd => MSE: 0.9794951097048008\n",
      "Tested (100,), relu, adam => MSE: 3.462557072357153\n",
      "Tested (100,), relu, sgd => MSE: 0.9966727195740722\n",
      "Tested (100,), tanh, adam => MSE: 0.9316728673660731\n",
      "Tested (100,), tanh, sgd => MSE: 0.9503517147628835\n",
      "Tested (50, 50), relu, adam => MSE: 1.1009668508223676\n",
      "Tested (50, 50), relu, sgd => MSE: 0.9389666217503263\n",
      "Tested (50, 50), tanh, adam => MSE: 1.9042674149156453\n",
      "Tested (50, 50), tanh, sgd => MSE: 0.9741193263887072\n",
      "\n",
      "Best parameters found:\n",
      "Hidden Layer Sizes: (100,)\n",
      "Activation: tanh\n",
      "Solver: adam\n",
      "Validation Error (MSE): 0.9316728673660731\n"
     ]
    }
   ],
   "source": [
    "import numpy as np\n",
    "from sklearn.model_selection import train_test_split\n",
    "from sklearn.preprocessing import StandardScaler\n",
    "from sklearn.neural_network import MLPRegressor\n",
    "from sklearn.metrics import mean_squared_error\n",
    "import warnings\n",
    "warnings.filterwarnings(\"ignore\")\n",
    "\n",
    "# Load your dataset (example synthetic dataset)\n",
    "np.random.seed(42)\n",
    "num_samples = 1000\n",
    "num_features = 5\n",
    "X = np.random.rand(num_samples, num_features)\n",
    "true_coefficients = np.random.rand(num_features) * 10\n",
    "noise = np.random.normal(loc=0, scale=1, size=num_samples)\n",
    "y = np.dot(X, true_coefficients) + noise\n",
    "\n",
    "# Split the data into training and validation sets\n",
    "X_train, X_val, y_train, y_val = train_test_split(X, y, test_size=0.2, random_state=42)\n",
    "\n",
    "# Standardize the data (important for neural networks)\n",
    "scaler = StandardScaler()\n",
    "X_train = scaler.fit_transform(X_train)\n",
    "X_val = scaler.transform(X_val)\n",
    "\n",
    "# Define a function to train and evaluate the neural network\n",
    "def train_neural_network(hidden_layer_sizes, activation, solver):\n",
    "    model = MLPRegressor(hidden_layer_sizes=hidden_layer_sizes, activation=activation, solver=solver, random_state=42)\n",
    "    model.fit(X_train, y_train)\n",
    "    y_pred = model.predict(X_val)\n",
    "    error = mean_squared_error(y_val, y_pred)\n",
    "    return error\n",
    "\n",
    "# Manually test different hyperparameters\n",
    "best_error = float('inf')\n",
    "best_params = None\n",
    "\n",
    "# Try different configurations\n",
    "hidden_layer_sizes_options = [(50,), (100,), (50, 50)]\n",
    "activation_options = ['relu', 'tanh']\n",
    "solver_options = ['adam', 'sgd']\n",
    "\n",
    "for hidden_layer_sizes in hidden_layer_sizes_options:\n",
    "    for activation in activation_options:\n",
    "        for solver in solver_options:\n",
    "            error = train_neural_network(hidden_layer_sizes, activation, solver)\n",
    "            print(f\"Tested {hidden_layer_sizes}, {activation}, {solver} => MSE: {error}\")\n",
    "            if error < best_error:\n",
    "                best_error = error\n",
    "                best_params = (hidden_layer_sizes, activation, solver)\n",
    "\n",
    "print(\"\\nBest parameters found:\")\n",
    "print(f\"Hidden Layer Sizes: {best_params[0]}\")\n",
    "print(f\"Activation: {best_params[1]}\")\n",
    "print(f\"Solver: {best_params[2]}\")\n",
    "print(f\"Validation Error (MSE): {best_error}\")\n"
   ]
  },
  {
   "cell_type": "code",
   "execution_count": null,
   "id": "f3dbbb46-e62f-4a1c-af44-2b0ddb7d6cf9",
   "metadata": {},
   "outputs": [],
   "source": []
  }
 ],
 "metadata": {
  "kernelspec": {
   "display_name": "Python 3 (ipykernel)",
   "language": "python",
   "name": "python3"
  },
  "language_info": {
   "codemirror_mode": {
    "name": "ipython",
    "version": 3
   },
   "file_extension": ".py",
   "mimetype": "text/x-python",
   "name": "python",
   "nbconvert_exporter": "python",
   "pygments_lexer": "ipython3",
   "version": "3.12.2"
  }
 },
 "nbformat": 4,
 "nbformat_minor": 5
}
