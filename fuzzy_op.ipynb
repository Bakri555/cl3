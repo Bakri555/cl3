{
 "cells": [
  {
   "cell_type": "code",
   "execution_count": 5,
   "id": "b27a02f2-044f-4aab-948e-3c1191887d17",
   "metadata": {},
   "outputs": [
    {
     "name": "stdout",
     "output_type": "stream",
     "text": [
      "Fuzzy Set A: {'x1': 0.2, 'x2': 0.5, 'x3': 0.7}\n",
      "Fuzzy Set B: {'x1': 0.6, 'x2': 0.3, 'x3': 0.8}\n",
      "Union A ∪ B: {'x1': 0.6, 'x3': 0.8, 'x2': 0.5}\n",
      "Intersection A ∩ B: {'x1': 0.2, 'x3': 0.7, 'x2': 0.3}\n",
      "Complement of A: {'x1': 0.8, 'x2': 0.5, 'x3': 0.30000000000000004}\n",
      "Difference A - B: {'x1': 0.2, 'x3': 0.19999999999999996, 'x2': 0.5}\n",
      "\n",
      "Fuzzy Relation R1 (X × Y): {('x1', 'y1'): 0.4, ('x1', 'y2'): 0.4, ('x2', 'y1'): 0.6, ('x2', 'y2'): 0.7}\n",
      "Fuzzy Relation R2 (Y × X): {('y1', 'x1'): 0.4, ('y1', 'x2'): 0.6, ('y2', 'x1'): 0.4, ('y2', 'x2'): 0.7}\n",
      "Max-Min Composition (R1 ∘ R2): {('x1', 'x1'): 0.4, ('x1', 'x2'): 0.4, ('x2', 'x1'): 0.4, ('x2', 'x2'): 0.7}\n"
     ]
    }
   ],
   "source": [
    "# Define fuzzy sets\n",
    "A = {'x1': 0.2, 'x2': 0.5, 'x3': 0.7}\n",
    "B = {'x1': 0.6, 'x2': 0.3, 'x3': 0.8}\n",
    "\n",
    "# Fuzzy Set Operations\n",
    "def union(A, B):\n",
    "    return {x: max(A.get(x, 0), B.get(x, 0)) for x in set(A) | set(B)}\n",
    "\n",
    "def intersection(A, B):\n",
    "    return {x: min(A.get(x, 0), B.get(x, 0)) for x in set(A) | set(B)}\n",
    "\n",
    "def complement(A):\n",
    "    return {x: 1 - A[x] for x in A}\n",
    "\n",
    "def difference(A, B):\n",
    "    return {x: min(A.get(x, 0), 1 - B.get(x, 0)) for x in set(A) | set(B)}\n",
    "\n",
    "# Cartesian Product to form fuzzy relation\n",
    "def cartesian_product(A, B):\n",
    "    return {(a, b): min(A[a], B[b]) for a in A for b in B}\n",
    "\n",
    "# Max-Min Composition of two fuzzy relations\n",
    "def max_min_composition(R1, R2):\n",
    "    result = {}\n",
    "    x_elements = {a for (a, _) in R1}\n",
    "    z_elements = {c for (_, c) in R2}\n",
    "    y_elements = {b for (_, b) in R1} & {b for (b, _) in R2}\n",
    "\n",
    "    for x in x_elements:\n",
    "        for z in z_elements:\n",
    "            min_vals = [min(R1.get((x, y), 0), R2.get((y, z), 0)) for y in y_elements]\n",
    "            result[(x, z)] = max(min_vals) if min_vals else 0\n",
    "    return result\n",
    "\n",
    "# Example fuzzy sets for relations\n",
    "X = {'x1': 0.4, 'x2': 0.7}\n",
    "Y = {'y1': 0.6, 'y2': 0.9}\n",
    "\n",
    "# Create fuzzy relations\n",
    "R1 = cartesian_product(X, Y)\n",
    "R2 = cartesian_product(Y, X)\n",
    "\n",
    "# Perform all operations\n",
    "print(\"Fuzzy Set A:\", A)\n",
    "print(\"Fuzzy Set B:\", B)\n",
    "print(\"Union A ∪ B:\", union(A, B))\n",
    "print(\"Intersection A ∩ B:\", intersection(A, B))\n",
    "print(\"Complement of A:\", complement(A))\n",
    "print(\"Difference A - B:\", difference(A, B))\n",
    "print(\"\\nFuzzy Relation R1 (X × Y):\", R1)\n",
    "print(\"Fuzzy Relation R2 (Y × X):\", R2)\n",
    "print(\"Max-Min Composition (R1 ∘ R2):\", max_min_composition(R1, R2))\n"
   ]
  },
  {
   "cell_type": "code",
   "execution_count": null,
   "id": "f472a08e-9e8e-4db7-bf21-9560bf7f22fc",
   "metadata": {},
   "outputs": [],
   "source": []
  }
 ],
 "metadata": {
  "kernelspec": {
   "display_name": "Python 3 (ipykernel)",
   "language": "python",
   "name": "python3"
  },
  "language_info": {
   "codemirror_mode": {
    "name": "ipython",
    "version": 3
   },
   "file_extension": ".py",
   "mimetype": "text/x-python",
   "name": "python",
   "nbconvert_exporter": "python",
   "pygments_lexer": "ipython3",
   "version": "3.12.2"
  }
 },
 "nbformat": 4,
 "nbformat_minor": 5
}
